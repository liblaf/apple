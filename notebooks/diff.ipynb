{
 "cells": [
  {
   "cell_type": "code",
   "execution_count": 1,
   "id": "eded03fb",
   "metadata": {},
   "outputs": [],
   "source": [
    "import einops\n",
    "import numpy as np\n",
    "import sympy"
   ]
  },
  {
   "cell_type": "code",
   "execution_count": null,
   "id": "82bcb230",
   "metadata": {},
   "outputs": [
    {
     "data": {
      "text/latex": [
       "$\\displaystyle \\left[\\begin{matrix}R_{00} & R_{01} & R_{02}\\\\R_{10} & R_{11} & R_{12}\\\\R_{20} & R_{21} & R_{22}\\end{matrix}\\right]$"
      ],
      "text/plain": [
       "[[R00, R01, R02], [R10, R11, R12], [R20, R21, R22]]"
      ]
     },
     "execution_count": 2,
     "metadata": {},
     "output_type": "execute_result"
    }
   ],
   "source": [
    "R: np.ndarray = np.asarray(sympy.symbols(\"R:3:3\", real=True)).reshape(3, 3)\n",
    "sympy.NDimArray(R)  # 3, 3"
   ]
  },
  {
   "cell_type": "code",
   "execution_count": null,
   "id": "ff806ce4",
   "metadata": {},
   "outputs": [
    {
     "data": {
      "text/latex": [
       "$\\displaystyle \\left[\\begin{matrix}A_{00} & A_{01} & A_{02}\\\\A_{10} & A_{11} & A_{12}\\\\A_{20} & A_{21} & A_{22}\\end{matrix}\\right]$"
      ],
      "text/plain": [
       "[[A00, A01, A02], [A10, A11, A12], [A20, A21, A22]]"
      ]
     },
     "execution_count": 3,
     "metadata": {},
     "output_type": "execute_result"
    }
   ],
   "source": [
    "A: np.ndarray = np.asarray(sympy.symbols(\"A:3:3\", real=True)).reshape(3, 3)\n",
    "sympy.NDimArray(A)  # 3, 3"
   ]
  },
  {
   "cell_type": "code",
   "execution_count": null,
   "id": "8d463eb9",
   "metadata": {},
   "outputs": [
    {
     "data": {
      "text/latex": [
       "$\\displaystyle \\left[\\begin{matrix}\\left[\\begin{matrix}- R_{00} & 0 & 0\\\\- R_{10} & 0 & 0\\\\- R_{20} & 0 & 0\\end{matrix}\\right] & \\left[\\begin{matrix}0 & - R_{00} & 0\\\\0 & - R_{10} & 0\\\\0 & - R_{20} & 0\\end{matrix}\\right] & \\left[\\begin{matrix}0 & 0 & - R_{00}\\\\0 & 0 & - R_{10}\\\\0 & 0 & - R_{20}\\end{matrix}\\right]\\\\\\left[\\begin{matrix}- R_{01} & 0 & 0\\\\- R_{11} & 0 & 0\\\\- R_{21} & 0 & 0\\end{matrix}\\right] & \\left[\\begin{matrix}0 & - R_{01} & 0\\\\0 & - R_{11} & 0\\\\0 & - R_{21} & 0\\end{matrix}\\right] & \\left[\\begin{matrix}0 & 0 & - R_{01}\\\\0 & 0 & - R_{11}\\\\0 & 0 & - R_{21}\\end{matrix}\\right]\\\\\\left[\\begin{matrix}- R_{02} & 0 & 0\\\\- R_{12} & 0 & 0\\\\- R_{22} & 0 & 0\\end{matrix}\\right] & \\left[\\begin{matrix}0 & - R_{02} & 0\\\\0 & - R_{12} & 0\\\\0 & - R_{22} & 0\\end{matrix}\\right] & \\left[\\begin{matrix}0 & 0 & - R_{02}\\\\0 & 0 & - R_{12}\\\\0 & 0 & - R_{22}\\end{matrix}\\right]\\end{matrix}\\right]$"
      ],
      "text/plain": [
       "[[[[-R00, 0, 0], [-R10, 0, 0], [-R20, 0, 0]], [[0, -R00, 0], [0, -R10, 0], [0, -R20, 0]], [[0, 0, -R00], [0, 0, -R10], [0, 0, -R20]]], [[[-R01, 0, 0], [-R11, 0, 0], [-R21, 0, 0]], [[0, -R01, 0], [0, -R11, 0], [0, -R21, 0]], [[0, 0, -R01], [0, 0, -R11], [0, 0, -R21]]], [[[-R02, 0, 0], [-R12, 0, 0], [-R22, 0, 0]], [[0, -R02, 0], [0, -R12, 0], [0, -R22, 0]], [[0, 0, -R02], [0, 0, -R12], [0, 0, -R22]]]]"
      ]
     },
     "execution_count": 4,
     "metadata": {},
     "output_type": "execute_result"
    }
   ],
   "source": [
    "D: np.ndarray = np.asarray(sympy.derive_by_array(-R @ A, A))\n",
    "sympy.NDimArray(D)  # 3, 3, 3, 3"
   ]
  },
  {
   "cell_type": "code",
   "execution_count": 7,
   "id": "fdffe226",
   "metadata": {},
   "outputs": [
    {
     "data": {
      "text/latex": [
       "$\\displaystyle \\left[\\begin{matrix}p_{00} & p_{01} & p_{02}\\\\p_{10} & p_{11} & p_{12}\\\\p_{20} & p_{21} & p_{22}\\end{matrix}\\right]$"
      ],
      "text/plain": [
       "[[p00, p01, p02], [p10, p11, p12], [p20, p21, p22]]"
      ]
     },
     "execution_count": 7,
     "metadata": {},
     "output_type": "execute_result"
    }
   ],
   "source": [
    "p: np.ndarray = np.asarray(sympy.symbols(\"p:3:3\", real=True)).reshape(3, 3)\n",
    "sympy.NDimArray(p)  # 3, 3"
   ]
  },
  {
   "cell_type": "code",
   "execution_count": 6,
   "id": "54b8b5ca",
   "metadata": {},
   "outputs": [
    {
     "data": {
      "text/latex": [
       "$\\displaystyle \\left[\\begin{matrix}- R_{00} p_{00} - R_{10} p_{10} - R_{20} p_{20} & - R_{00} p_{01} - R_{10} p_{11} - R_{20} p_{21} & - R_{00} p_{02} - R_{10} p_{12} - R_{20} p_{22}\\\\- R_{01} p_{00} - R_{11} p_{10} - R_{21} p_{20} & - R_{01} p_{01} - R_{11} p_{11} - R_{21} p_{21} & - R_{01} p_{02} - R_{11} p_{12} - R_{21} p_{22}\\\\- R_{02} p_{00} - R_{12} p_{10} - R_{22} p_{20} & - R_{02} p_{01} - R_{12} p_{11} - R_{22} p_{21} & - R_{02} p_{02} - R_{12} p_{12} - R_{22} p_{22}\\end{matrix}\\right]$"
      ],
      "text/plain": [
       "[[-R00*p00 - R10*p10 - R20*p20, -R00*p01 - R10*p11 - R20*p21, -R00*p02 - R10*p12 - R20*p22], [-R01*p00 - R11*p10 - R21*p20, -R01*p01 - R11*p11 - R21*p21, -R01*p02 - R11*p12 - R21*p22], [-R02*p00 - R12*p10 - R22*p20, -R02*p01 - R12*p11 - R22*p21, -R02*p02 - R12*p12 - R22*p22]]"
      ]
     },
     "execution_count": 6,
     "metadata": {},
     "output_type": "execute_result"
    }
   ],
   "source": [
    "hess_mixed_prod: np.ndarray = einops.einsum(D, p, \"i j k l, k l -> i j\")\n",
    "sympy.NDimArray(hess_mixed_prod)"
   ]
  }
 ],
 "metadata": {
  "kernelspec": {
   "display_name": "liblaf-apple",
   "language": "python",
   "name": "python3"
  },
  "language_info": {
   "codemirror_mode": {
    "name": "ipython",
    "version": 3
   },
   "file_extension": ".py",
   "mimetype": "text/x-python",
   "name": "python",
   "nbconvert_exporter": "python",
   "pygments_lexer": "ipython3",
   "version": "3.13.7"
  }
 },
 "nbformat": 4,
 "nbformat_minor": 5
}
